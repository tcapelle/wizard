{
 "cells": [
  {
   "cell_type": "code",
   "execution_count": 4,
   "id": "5d168d5c-41c3-4b35-8175-b2ef7212843b",
   "metadata": {},
   "outputs": [],
   "source": [
    "import wandb\n",
    "\n",
    "import json\n",
    "from tqdm.notebook import tqdm\n",
    "from collections import defaultdict\n",
    "import zipfile\n",
    "from pathlib import Path"
   ]
  },
  {
   "cell_type": "code",
   "execution_count": 40,
   "id": "b885a55c-abf6-4ae7-a9be-0fb79f82ab73",
   "metadata": {},
   "outputs": [],
   "source": [
    "RAW_AT = 'parambharat/wandb_docs_bot_dev/wandbot_vectorindex:latest'"
   ]
  },
  {
   "cell_type": "code",
   "execution_count": 2,
   "id": "eb06bbec-3702-48a6-943b-0bb563ffec12",
   "metadata": {},
   "outputs": [
    {
     "name": "stderr",
     "output_type": "stream",
     "text": [
      "\u001b[34m\u001b[1mwandb\u001b[0m: Downloading large artifact wandbot_vectorindex:latest, 500.62MB. 12 files... \n",
      "\u001b[34m\u001b[1mwandb\u001b[0m:   12 of 12 files downloaded.  \n",
      "Done. 0:0:1.4\n"
     ]
    }
   ],
   "source": [
    "api = wandb.Api()\n",
    "artifact = api.artifact(RAW_AT, type='vectorindex')\n",
    "artifact_dir = artifact.download()"
   ]
  },
  {
   "cell_type": "code",
   "execution_count": 3,
   "id": "aa1df92d-b116-4e0e-9a17-c0b5795b8f31",
   "metadata": {},
   "outputs": [
    {
     "data": {
      "text/plain": [
       "[PosixPath('artifacts/wandbot_vectorindex:v33/hyde_prompt.txt'),\n",
       " PosixPath('artifacts/wandbot_vectorindex:v33/datastore.json'),\n",
       " PosixPath('artifacts/wandbot_vectorindex:v33/config.json'),\n",
       " PosixPath('artifacts/wandbot_vectorindex:v33/sparse_retriever'),\n",
       " PosixPath('artifacts/wandbot_vectorindex:v33/metadata.json'),\n",
       " PosixPath('artifacts/wandbot_vectorindex:v33/dense_retriever')]"
      ]
     },
     "execution_count": 3,
     "metadata": {},
     "output_type": "execute_result"
    }
   ],
   "source": [
    "path = Path(artifact_dir)\n",
    "list(path.iterdir())"
   ]
  },
  {
   "cell_type": "markdown",
   "id": "cb9d546d-f628-4458-9da1-100177b0f171",
   "metadata": {},
   "source": [
    "## Load data"
   ]
  },
  {
   "cell_type": "code",
   "execution_count": 5,
   "id": "1e7e8f4f-b940-4e13-a44c-146a2b6dbcbc",
   "metadata": {},
   "outputs": [],
   "source": [
    "with open(path/'datastore.json', mode=\"r\") as f:\n",
    "    docstore = json.load(f)"
   ]
  },
  {
   "cell_type": "code",
   "execution_count": 6,
   "id": "60f2bd23-66d6-4067-960a-b298002b8d98",
   "metadata": {},
   "outputs": [
    {
     "data": {
      "text/plain": [
       "10868"
      ]
     },
     "execution_count": 6,
     "metadata": {},
     "output_type": "execute_result"
    }
   ],
   "source": [
    "len(docstore[\"docs\"])"
   ]
  },
  {
   "cell_type": "code",
   "execution_count": 7,
   "id": "e5bf47f3-af9e-47d3-9376-6416367d88f7",
   "metadata": {},
   "outputs": [],
   "source": [
    "docs = docstore[\"docs\"].values()"
   ]
  },
  {
   "cell_type": "markdown",
   "id": "176a1e94-e6b0-40d6-a071-6fd91c983c8a",
   "metadata": {},
   "source": [
    "map: source -> text"
   ]
  },
  {
   "cell_type": "markdown",
   "id": "b18147ff-6cf1-42cb-ba3e-71a193951dda",
   "metadata": {},
   "source": [
    "a jsonl file:\n",
    "```\n",
    "{\"source\":\"wandb.ai/intro\", \"text\": \"The text of the webpage....\"}\n",
    "{\"source\":\"wandb.ai/launch\", \"text\": \"The text of the launch....\"}\n",
    "...\n",
    "```\n",
    "\n",
    "\n",
    "Then we can load with hf `datasets`..."
   ]
  },
  {
   "cell_type": "code",
   "execution_count": 15,
   "id": "45f68ccf-7071-4f9e-a322-cbdfb877f94f",
   "metadata": {},
   "outputs": [
    {
     "data": {
      "application/vnd.jupyter.widget-view+json": {
       "model_id": "66a915c9ee534f3ca4622d68d5dcba99",
       "version_major": 2,
       "version_minor": 0
      },
      "text/plain": [
       "  0%|          | 0/10868 [00:00<?, ?it/s]"
      ]
     },
     "metadata": {},
     "output_type": "display_data"
    }
   ],
   "source": [
    "d = defaultdict(list)\n",
    "for doc in tqdm(docs, total=len(docs)):\n",
    "    d[doc[\"extra_info\"][\"source\"]].append(doc[\"text\"])"
   ]
  },
  {
   "cell_type": "markdown",
   "id": "959101d8-e138-463f-9864-8492289a4b18",
   "metadata": {},
   "source": [
    "we need to concat the docs:"
   ]
  },
  {
   "cell_type": "code",
   "execution_count": 21,
   "id": "110795ba-0912-4a5d-ba1f-89b2faee4e5c",
   "metadata": {},
   "outputs": [],
   "source": [
    "for k in d.keys():\n",
    "    d[k] = \"\\n\".join(d[k])"
   ]
  },
  {
   "cell_type": "code",
   "execution_count": 33,
   "id": "c744d89e-9d68-4831-8d2d-02e4a349c82d",
   "metadata": {},
   "outputs": [],
   "source": [
    "one = next(iter(d.items()))"
   ]
  },
  {
   "cell_type": "markdown",
   "id": "371229d6-aea2-4ae4-8c3c-c9e807d237d4",
   "metadata": {},
   "source": [
    "this is a tuple"
   ]
  },
  {
   "cell_type": "code",
   "execution_count": 38,
   "id": "dbde642f-7fa8-45cb-9370-ba5d75811049",
   "metadata": {},
   "outputs": [
    {
     "data": {
      "text/plain": [
       "(tuple, 'https://docs.wandb.ai/quickstart')"
      ]
     },
     "execution_count": 38,
     "metadata": {},
     "output_type": "execute_result"
    }
   ],
   "source": [
    "type(one), one[0]"
   ]
  },
  {
   "cell_type": "code",
   "execution_count": 32,
   "id": "d62fc8f7-fb53-4c09-8e0f-05fa6a4f6b29",
   "metadata": {},
   "outputs": [
    {
     "data": {
      "text/plain": [
       "[('https://docs.wandb.ai/quickstart', 4524),\n",
       " ('https://docs.wandb.ai/tutorials/tensorflow', 5808),\n",
       " ('https://docs.wandb.ai/tutorials/huggingface', 4354),\n",
       " ('https://docs.wandb.ai/tutorials_to_tutorials', 751),\n",
       " ('https://docs.wandb.ai/tutorials/xgboost_sweeps', 7120),\n",
       " ('https://docs.wandb.ai/tutorials/tables', 7302),\n",
       " ('https://docs.wandb.ai/tutorials/lightgbm', 5923),\n",
       " ('https://docs.wandb.ai/tutorials/volcano', 5885),\n",
       " ('https://docs.wandb.ai/tutorials/pytorch', 11089),\n",
       " ('https://docs.wandb.ai/tutorials/prompts', 4873)]"
      ]
     },
     "execution_count": 32,
     "metadata": {},
     "output_type": "execute_result"
    }
   ],
   "source": [
    "from itertools import islice\n",
    "\n",
    "def take(n, iterable):\n",
    "    \"\"\"Return the first n items of the iterable as a list.\"\"\"\n",
    "    return list(islice(iterable, n))\n",
    "\n",
    "lens = {k:len(v) for k,v in d.items()}\n",
    "take(10, lens.items())"
   ]
  },
  {
   "cell_type": "markdown",
   "id": "a0c8cf71-5e43-4b0b-b108-f9086f96894d",
   "metadata": {},
   "source": [
    "Let's dump this into a JSONL file"
   ]
  },
  {
   "cell_type": "code",
   "execution_count": 47,
   "id": "2049c85d-e327-4c32-8c23-1b895561f4b8",
   "metadata": {},
   "outputs": [],
   "source": [
    "ds_as_list = [{\"source\":tup[0], \"text\":tup[1]} for tup in d.items()]"
   ]
  },
  {
   "cell_type": "code",
   "execution_count": 48,
   "id": "ad990407-0c6f-43d2-a28d-2eb3177a4953",
   "metadata": {},
   "outputs": [],
   "source": [
    "table = wandb.Table(rows=ds_as_list, columns=[\"source\", \"text\"])"
   ]
  },
  {
   "cell_type": "code",
   "execution_count": 50,
   "id": "ed97c615-0cf6-4d4f-bcce-4e7b69e4acac",
   "metadata": {},
   "outputs": [],
   "source": [
    "out_file = 'data/dataset.jsonl'"
   ]
  },
  {
   "cell_type": "code",
   "execution_count": 51,
   "id": "c714f57e-f20f-41bc-86b9-1a919180cf44",
   "metadata": {},
   "outputs": [],
   "source": [
    "with open(out_file, 'w') as outfile:\n",
    "    for row in ds_as_list:\n",
    "        json.dump(row, outfile)\n",
    "        outfile.write('\\n')"
   ]
  },
  {
   "cell_type": "code",
   "execution_count": null,
   "id": "d2f4b9dd-ec90-4d63-b306-da0e6d7aad15",
   "metadata": {},
   "outputs": [
    {
     "name": "stderr",
     "output_type": "stream",
     "text": [
      "\u001b[34m\u001b[1mwandb\u001b[0m: Currently logged in as: \u001b[33mcapecape\u001b[0m. Use \u001b[1m`wandb login --relogin`\u001b[0m to force relogin\n"
     ]
    },
    {
     "data": {
      "text/html": [
       "Tracking run with wandb version 0.15.4"
      ],
      "text/plain": [
       "<IPython.core.display.HTML object>"
      ]
     },
     "metadata": {},
     "output_type": "display_data"
    },
    {
     "data": {
      "text/html": [
       "Run data is saved locally in <code>/Users/tcapelle/work/wizard/nbs/wandb/run-20230628_164206-aw2stc9h</code>"
      ],
      "text/plain": [
       "<IPython.core.display.HTML object>"
      ]
     },
     "metadata": {},
     "output_type": "display_data"
    },
    {
     "data": {
      "text/html": [
       "Syncing run <strong><a href='https://wandb.ai/capecape/wizard/runs/aw2stc9h' target=\"_blank\">charmed-wave-1</a></strong> to <a href='https://wandb.ai/capecape/wizard' target=\"_blank\">Weights & Biases</a> (<a href='https://wandb.me/run' target=\"_blank\">docs</a>)<br/>"
      ],
      "text/plain": [
       "<IPython.core.display.HTML object>"
      ]
     },
     "metadata": {},
     "output_type": "display_data"
    },
    {
     "data": {
      "text/html": [
       " View project at <a href='https://wandb.ai/capecape/wizard' target=\"_blank\">https://wandb.ai/capecape/wizard</a>"
      ],
      "text/plain": [
       "<IPython.core.display.HTML object>"
      ]
     },
     "metadata": {},
     "output_type": "display_data"
    },
    {
     "data": {
      "text/html": [
       " View run at <a href='https://wandb.ai/capecape/wizard/runs/aw2stc9h' target=\"_blank\">https://wandb.ai/capecape/wizard/runs/aw2stc9h</a>"
      ],
      "text/plain": [
       "<IPython.core.display.HTML object>"
      ]
     },
     "metadata": {},
     "output_type": "display_data"
    },
    {
     "data": {
      "text/html": [
       "Waiting for W&B process to finish... <strong style=\"color:green\">(success).</strong>"
      ],
      "text/plain": [
       "<IPython.core.display.HTML object>"
      ]
     },
     "metadata": {},
     "output_type": "display_data"
    }
   ],
   "source": [
    "with wandb.init(project=\"wizard\", job_type=\"preprocessing\"):\n",
    "    # link artifact\n",
    "    wandb.use_artifact(RAW_AT)\n",
    "    \n",
    "    # log table\n",
    "    wandb.log({\"dataset_table\": table})\n",
    "    \n",
    "    # log at\n",
    "    at = wandb.Artifact(\"lm_dataset\", type=\"dataset\")\n",
    "    at.add_file(out_file)\n",
    "    wandb.log_artifact(at)"
   ]
  }
 ],
 "metadata": {
  "kernelspec": {
   "display_name": "Python 3 (ipykernel)",
   "language": "python",
   "name": "python3"
  },
  "language_info": {
   "codemirror_mode": {
    "name": "ipython",
    "version": 3
   },
   "file_extension": ".py",
   "mimetype": "text/x-python",
   "name": "python",
   "nbconvert_exporter": "python",
   "pygments_lexer": "ipython3",
   "version": "3.10.9"
  }
 },
 "nbformat": 4,
 "nbformat_minor": 5
}
